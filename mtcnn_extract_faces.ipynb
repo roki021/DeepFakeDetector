{
 "cells": [
  {
   "cell_type": "code",
   "execution_count": null,
   "metadata": {},
   "outputs": [],
   "source": [
    "from face_detector import FaceDetector"
   ]
  },
  {
   "cell_type": "code",
   "execution_count": null,
   "metadata": {
    "scrolled": false
   },
   "outputs": [],
   "source": [
    "save_interval = 6 # perform face detection every {save_interval} frames\n",
    "fn_input_video = \"videos/trump.mp4\"\n",
    "minsize = 30 # minimum size of face\n",
    "detec_threshold = 0.7\n",
    "threshold = [0.6, 0.7, detec_threshold]  # three steps's threshold\n",
    "factor = 0.709 # scale factor   \n",
    "detector = FaceDetector(min_face_size=minsize, steps_threshold=threshold,\n",
    "                 scale_factor=factor)\n",
    "detector.preprocess_video(fn_input_video, 6, 'faceA', 'v1')"
   ]
  },
  {
   "cell_type": "code",
   "execution_count": null,
   "metadata": {},
   "outputs": [],
   "source": []
  }
 ],
 "metadata": {
  "kernelspec": {
   "display_name": "Python 3",
   "language": "python",
   "name": "python3"
  },
  "language_info": {
   "codemirror_mode": {
    "name": "ipython",
    "version": 3
   },
   "file_extension": ".py",
   "mimetype": "text/x-python",
   "name": "python",
   "nbconvert_exporter": "python",
   "pygments_lexer": "ipython3",
   "version": "3.7.8"
  }
 },
 "nbformat": 4,
 "nbformat_minor": 2
}
