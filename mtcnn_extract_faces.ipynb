{
 "cells": [
  {
   "cell_type": "code",
   "execution_count": null,
   "metadata": {},
   "outputs": [],
   "source": [
    "from face_extractor import FaceExtractor"
   ]
  },
  {
   "cell_type": "code",
   "execution_count": null,
   "metadata": {
    "scrolled": false
   },
   "outputs": [],
   "source": [
    "save_interval = 6\n",
    "minsize = 30 # minimum size of face\n",
    "detec_threshold = 0.7\n",
    "threshold = [0.6, 0.7, detec_threshold]  # three steps's threshold\n",
    "factor = 0.709 # scale factor   \n",
    "extractor = FaceExtractor(min_face_size=minsize, steps_threshold=threshold,\n",
    "                 scale_factor=factor)"
   ]
  },
  {
   "cell_type": "code",
   "execution_count": null,
   "metadata": {},
   "outputs": [],
   "source": [
    "fn_input_video_1 = \"INPUT_VIDEO.mp4\"\n",
    "folder_name = \"faceA\"\n",
    "video_num = \"v1\"\n",
    "extractor.preprocess_video(fn_input_video_1, save_interval, folder_name, video_num)"
   ]
  },
  {
   "cell_type": "code",
   "execution_count": null,
   "metadata": {},
   "outputs": [],
   "source": [
    "fn_input_video_2 = \"INPUT_VIDEO.mp4\"\n",
    "folder_name = \"faceB\"\n",
    "video_num = \"v1\"\n",
    "extractor.preprocess_video(fn_input_video_2, save_interval, folder_name, video_num)"
   ]
  }
 ],
 "metadata": {
  "kernelspec": {
   "display_name": "Python 3",
   "language": "python",
   "name": "python3"
  },
  "language_info": {
   "codemirror_mode": {
    "name": "ipython",
    "version": 3
   },
   "file_extension": ".py",
   "mimetype": "text/x-python",
   "name": "python",
   "nbconvert_exporter": "python",
   "pygments_lexer": "ipython3",
   "version": "3.7.8"
  }
 },
 "nbformat": 4,
 "nbformat_minor": 2
}
